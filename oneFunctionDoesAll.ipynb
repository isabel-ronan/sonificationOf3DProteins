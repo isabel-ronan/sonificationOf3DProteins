{
 "cells": [
  {
   "cell_type": "code",
   "execution_count": 1,
   "id": "aad07f23",
   "metadata": {},
   "outputs": [],
   "source": [
    "# import libraries\n",
    "import pretty_midi\n",
    "import mir_eval\n",
    "import numpy as np\n",
    "import warnings\n",
    "import os\n",
    "import random\n",
    "from optimalPlaneMIDI import *"
   ]
  },
  {
   "cell_type": "code",
   "execution_count": 2,
   "id": "1b22f885",
   "metadata": {},
   "outputs": [
    {
     "name": "stdout",
     "output_type": "stream",
     "text": [
      "Directory created successfully.\n"
     ]
    },
    {
     "name": "stderr",
     "output_type": "stream",
     "text": [
      "C:\\Users\\isabe\\anaconda3\\lib\\site-packages\\Bio\\PDB\\StructureBuilder.py:89: PDBConstructionWarning: WARNING: Chain A is discontinuous at line 8515.\n",
      "  warnings.warn(\n",
      "C:\\Users\\isabe\\anaconda3\\lib\\site-packages\\Bio\\PDB\\StructureBuilder.py:89: PDBConstructionWarning: WARNING: Chain B is discontinuous at line 8534.\n",
      "  warnings.warn(\n",
      "C:\\Users\\isabe\\anaconda3\\lib\\site-packages\\Bio\\PDB\\StructureBuilder.py:89: PDBConstructionWarning: WARNING: Chain C is discontinuous at line 8547.\n",
      "  warnings.warn(\n"
     ]
    },
    {
     "name": "stdout",
     "output_type": "stream",
     "text": [
      "KNN Model Accuracy: 0.9919354838709677\n",
      "Longest Duration: 695.6\n",
      "Duration Index: 19\n",
      "Best Rhythm: 0.6102493651078129\n",
      "Rhythm Index: 19\n",
      "Pitch Dominance: 0.2221737232649498\n",
      "Pitch Index: 3\n",
      "Overall Average: 165.07653174283774\n",
      "Overall Index: 19\n"
     ]
    }
   ],
   "source": [
    "proteinAMIDI = getBestPlane(proteinUsed = 0, directoryUsed = './proteins/', midiDirectoryNameUsed = 'proteinA', numberOfInstruments = 4)"
   ]
  },
  {
   "cell_type": "code",
   "execution_count": 4,
   "id": "905405e1",
   "metadata": {},
   "outputs": [
    {
     "name": "stdout",
     "output_type": "stream",
     "text": [
      "./proteinA/1n8z-19.mid\n"
     ]
    }
   ],
   "source": [
    "print(proteinAMIDI)"
   ]
  },
  {
   "cell_type": "code",
   "execution_count": 5,
   "id": "0fdb7df5",
   "metadata": {},
   "outputs": [
    {
     "name": "stdout",
     "output_type": "stream",
     "text": [
      "Directory created successfully.\n"
     ]
    },
    {
     "name": "stderr",
     "output_type": "stream",
     "text": [
      "C:\\Users\\isabe\\anaconda3\\lib\\site-packages\\Bio\\PDB\\StructureBuilder.py:89: PDBConstructionWarning: WARNING: Chain A is discontinuous at line 7631.\n",
      "  warnings.warn(\n",
      "C:\\Users\\isabe\\anaconda3\\lib\\site-packages\\Bio\\PDB\\StructureBuilder.py:89: PDBConstructionWarning: WARNING: Chain B is discontinuous at line 7662.\n",
      "  warnings.warn(\n",
      "C:\\Users\\isabe\\anaconda3\\lib\\site-packages\\Bio\\PDB\\StructureBuilder.py:89: PDBConstructionWarning: WARNING: Chain C is discontinuous at line 7683.\n",
      "  warnings.warn(\n"
     ]
    },
    {
     "name": "stdout",
     "output_type": "stream",
     "text": [
      "KNN Model Accuracy: 0.991304347826087\n",
      "Longest Duration: 1026.8999999999999\n",
      "Duration Index: 19\n",
      "Best Rhythm: 0.6080656148471949\n",
      "Rhythm Index: 19\n",
      "Pitch Dominance: 0.3080227067215915\n",
      "Pitch Index: 19\n",
      "Overall Average: 226.17932768396008\n",
      "Overall Index: 19\n"
     ]
    }
   ],
   "source": [
    "proteinBMIDI = getBestPlane(proteinUsed = 1, directoryUsed = './proteins/', midiDirectoryNameUsed = 'proteinB')"
   ]
  },
  {
   "cell_type": "code",
   "execution_count": 6,
   "id": "ce0c1cfa",
   "metadata": {},
   "outputs": [
    {
     "name": "stdout",
     "output_type": "stream",
     "text": [
      "./proteinB/3bik-19.mid\n"
     ]
    }
   ],
   "source": [
    "print(proteinBMIDI)"
   ]
  },
  {
   "cell_type": "code",
   "execution_count": 7,
   "id": "3c0be689",
   "metadata": {},
   "outputs": [
    {
     "name": "stdout",
     "output_type": "stream",
     "text": [
      "Directory created successfully.\n",
      "KNN Model Accuracy: 0.9936708860759493\n",
      "Longest Duration: 267.59999999999997\n",
      "Duration Index: 16\n",
      "Best Rhythm: 0.5679801530686981\n",
      "Rhythm Index: 11\n",
      "Pitch Dominance: 0.3561487854251012\n",
      "Pitch Index: 17\n",
      "Overall Average: 92.20245908352267\n",
      "Overall Index: 16\n"
     ]
    }
   ],
   "source": [
    "proteinCMIDI = getBestPlane(proteinUsed = 2, directoryUsed = './proteins/', midiDirectoryNameUsed = 'proteinC')"
   ]
  },
  {
   "cell_type": "code",
   "execution_count": 8,
   "id": "662777fd",
   "metadata": {},
   "outputs": [
    {
     "name": "stdout",
     "output_type": "stream",
     "text": [
      "./proteinC/3j6r-16.mid\n"
     ]
    }
   ],
   "source": [
    "print(proteinCMIDI)"
   ]
  },
  {
   "cell_type": "code",
   "execution_count": 9,
   "id": "872777c8",
   "metadata": {},
   "outputs": [
    {
     "name": "stdout",
     "output_type": "stream",
     "text": [
      "Directory created successfully.\n"
     ]
    },
    {
     "name": "stderr",
     "output_type": "stream",
     "text": [
      "C:\\Users\\isabe\\anaconda3\\lib\\site-packages\\Bio\\PDB\\StructureBuilder.py:89: PDBConstructionWarning: WARNING: Chain A is discontinuous at line 21778.\n",
      "  warnings.warn(\n",
      "C:\\Users\\isabe\\anaconda3\\lib\\site-packages\\Bio\\PDB\\StructureBuilder.py:89: PDBConstructionWarning: WARNING: Chain B is discontinuous at line 21847.\n",
      "  warnings.warn(\n",
      "C:\\Users\\isabe\\anaconda3\\lib\\site-packages\\Bio\\PDB\\StructureBuilder.py:89: PDBConstructionWarning: WARNING: Chain C is discontinuous at line 21931.\n",
      "  warnings.warn(\n",
      "C:\\Users\\isabe\\anaconda3\\lib\\site-packages\\Bio\\PDB\\StructureBuilder.py:89: PDBConstructionWarning: WARNING: Chain D is discontinuous at line 22024.\n",
      "  warnings.warn(\n",
      "C:\\Users\\isabe\\anaconda3\\lib\\site-packages\\Bio\\PDB\\StructureBuilder.py:89: PDBConstructionWarning: WARNING: Chain E is discontinuous at line 22092.\n",
      "  warnings.warn(\n",
      "C:\\Users\\isabe\\anaconda3\\lib\\site-packages\\Bio\\PDB\\StructureBuilder.py:89: PDBConstructionWarning: WARNING: Chain B is discontinuous at line 22176.\n",
      "  warnings.warn(\n",
      "C:\\Users\\isabe\\anaconda3\\lib\\site-packages\\Bio\\PDB\\StructureBuilder.py:89: PDBConstructionWarning: WARNING: Chain C is discontinuous at line 22178.\n",
      "  warnings.warn(\n",
      "C:\\Users\\isabe\\anaconda3\\lib\\site-packages\\Bio\\PDB\\StructureBuilder.py:89: PDBConstructionWarning: WARNING: Chain D is discontinuous at line 22180.\n",
      "  warnings.warn(\n",
      "C:\\Users\\isabe\\anaconda3\\lib\\site-packages\\Bio\\PDB\\StructureBuilder.py:89: PDBConstructionWarning: WARNING: Chain E is discontinuous at line 22181.\n",
      "  warnings.warn(\n"
     ]
    },
    {
     "name": "stdout",
     "output_type": "stream",
     "text": [
      "KNN Model Accuracy: 0.9950980392156863\n",
      "Longest Duration: 937.6999999999999\n",
      "Duration Index: 3\n",
      "Best Rhythm: 0.5144953653235688\n",
      "Rhythm Index: 2\n",
      "Pitch Dominance: 0.27433475803115953\n",
      "Pitch Index: 3\n",
      "Overall Average: 206.78206009723914\n",
      "Overall Index: 3\n"
     ]
    }
   ],
   "source": [
    "proteinDMIDI = getBestPlane(proteinUsed = 3, directoryUsed = './proteins/', midiDirectoryNameUsed = 'proteinD')"
   ]
  },
  {
   "cell_type": "code",
   "execution_count": 10,
   "id": "6a9476f0",
   "metadata": {},
   "outputs": [
    {
     "name": "stdout",
     "output_type": "stream",
     "text": [
      "./proteinD/6pv7-3.mid\n"
     ]
    }
   ],
   "source": [
    "print(proteinDMIDI)"
   ]
  },
  {
   "cell_type": "code",
   "execution_count": null,
   "id": "ac3a0b64",
   "metadata": {},
   "outputs": [],
   "source": []
  },
  {
   "cell_type": "code",
   "execution_count": null,
   "id": "f2150857",
   "metadata": {},
   "outputs": [],
   "source": []
  }
 ],
 "metadata": {
  "kernelspec": {
   "display_name": "Python 3 (ipykernel)",
   "language": "python",
   "name": "python3"
  },
  "language_info": {
   "codemirror_mode": {
    "name": "ipython",
    "version": 3
   },
   "file_extension": ".py",
   "mimetype": "text/x-python",
   "name": "python",
   "nbconvert_exporter": "python",
   "pygments_lexer": "ipython3",
   "version": "3.10.9"
  }
 },
 "nbformat": 4,
 "nbformat_minor": 5
}
